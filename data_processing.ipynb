{
 "cells": [
  {
   "cell_type": "markdown",
   "id": "f5e07a33",
   "metadata": {},
   "source": [
    "# Creating Project"
   ]
  },
  {
   "cell_type": "markdown",
   "id": "600d74a9",
   "metadata": {},
   "source": [
    "Firstly, you need to create a project on Google Cloud Platform to work on"
   ]
  },
  {
   "cell_type": "markdown",
   "id": "0ff61897",
   "metadata": {},
   "source": [
    "![Create project](./images/create_project.png)"
   ]
  },
  {
   "cell_type": "markdown",
   "id": "df2047db",
   "metadata": {},
   "source": [
    "![Name project](./images/name_project.png)"
   ]
  },
  {
   "cell_type": "markdown",
   "id": "44061b23",
   "metadata": {},
   "source": [
    "# Create Workbench"
   ]
  },
  {
   "cell_type": "markdown",
   "id": "abed1369",
   "metadata": {},
   "source": [
    "Go to Vertex AI page then click `Create Workbench` using the default settings. After creating, copy the 2 notebooks into the workbench."
   ]
  },
  {
   "cell_type": "markdown",
   "id": "63f8fcde",
   "metadata": {},
   "source": [
    "![Workbench](./images/workbench.png)"
   ]
  },
  {
   "cell_type": "markdown",
   "id": "8ad780e2-f9a8-4b93-8d5f-8da64cf61c23",
   "metadata": {
    "tags": []
   },
   "source": [
    "# Setup"
   ]
  },
  {
   "cell_type": "code",
   "execution_count": 3,
   "id": "fcb432ac-8203-4945-9180-d0ea9ef557b5",
   "metadata": {
    "tags": []
   },
   "outputs": [
    {
     "data": {
      "text/plain": [
       "'tymestack-439300'"
      ]
     },
     "execution_count": 3,
     "metadata": {},
     "output_type": "execute_result"
    }
   ],
   "source": [
    "project = !gcloud config get-value project\n",
    "PROJECT_ID = project[0]\n",
    "PROJECT_ID"
   ]
  },
  {
   "cell_type": "code",
   "execution_count": 5,
   "id": "34908d02-1440-4ce2-b62a-5f17dd757c94",
   "metadata": {
    "tags": []
   },
   "outputs": [],
   "source": [
    "REGION = 'us-central1'\n",
    "EXPERIMENT = '01'\n",
    "SERIES = '02'\n",
    "\n",
    "# source data\n",
    "BQ_PROJECT = PROJECT_ID\n",
    "BQ_DATASET = 'housing'\n",
    "BQ_TABLE = 'housing'\n",
    "\n",
    "data_url = \"http://lib.stat.cmu.edu/datasets/boston\""
   ]
  },
  {
   "cell_type": "code",
   "execution_count": 33,
   "id": "af71cfc4-7325-445c-be65-992505cc3330",
   "metadata": {
    "tags": []
   },
   "outputs": [],
   "source": [
    "from google.cloud import bigquery\n",
    "from google.cloud import storage"
   ]
  },
  {
   "cell_type": "code",
   "execution_count": 34,
   "id": "aa97db85-81cd-4c1b-801c-c84200302bbe",
   "metadata": {
    "tags": []
   },
   "outputs": [],
   "source": [
    "bq = bigquery.Client(project = PROJECT_ID)\n",
    "gcs = storage.Client(project = PROJECT_ID)"
   ]
  },
  {
   "cell_type": "code",
   "execution_count": 35,
   "id": "0d6f4925-0270-4efc-97fd-ae16000c7d39",
   "metadata": {
    "tags": []
   },
   "outputs": [],
   "source": [
    "BUCKET = PROJECT_ID"
   ]
  },
  {
   "cell_type": "markdown",
   "id": "900cc72e-cea5-4a93-95cb-bd7abf5edb84",
   "metadata": {},
   "source": [
    "# Data processing"
   ]
  },
  {
   "cell_type": "code",
   "execution_count": 46,
   "id": "2b7c7045-dbad-44a6-9ed2-18fafd6ed0f3",
   "metadata": {
    "tags": []
   },
   "outputs": [],
   "source": [
    "import pandas as pd\n",
    "import numpy as np\n",
    "\n",
    "data_url = \"http://lib.stat.cmu.edu/datasets/boston\"\n",
    "data = pd.read_csv(data_url, sep=\"\\s+\", skiprows=22, header=None)"
   ]
  },
  {
   "cell_type": "code",
   "execution_count": 47,
   "id": "6e9069b1-804f-4141-8802-fe653e172fee",
   "metadata": {
    "tags": []
   },
   "outputs": [
    {
     "data": {
      "text/html": [
       "<div>\n",
       "<style scoped>\n",
       "    .dataframe tbody tr th:only-of-type {\n",
       "        vertical-align: middle;\n",
       "    }\n",
       "\n",
       "    .dataframe tbody tr th {\n",
       "        vertical-align: top;\n",
       "    }\n",
       "\n",
       "    .dataframe thead th {\n",
       "        text-align: right;\n",
       "    }\n",
       "</style>\n",
       "<table border=\"1\" class=\"dataframe\">\n",
       "  <thead>\n",
       "    <tr style=\"text-align: right;\">\n",
       "      <th></th>\n",
       "      <th>0</th>\n",
       "      <th>1</th>\n",
       "      <th>2</th>\n",
       "      <th>3</th>\n",
       "      <th>4</th>\n",
       "      <th>5</th>\n",
       "      <th>6</th>\n",
       "      <th>7</th>\n",
       "      <th>8</th>\n",
       "      <th>9</th>\n",
       "      <th>10</th>\n",
       "    </tr>\n",
       "  </thead>\n",
       "  <tbody>\n",
       "    <tr>\n",
       "      <th>0</th>\n",
       "      <td>0.00632</td>\n",
       "      <td>18.00</td>\n",
       "      <td>2.31</td>\n",
       "      <td>0.0</td>\n",
       "      <td>0.538</td>\n",
       "      <td>6.575</td>\n",
       "      <td>65.2</td>\n",
       "      <td>4.0900</td>\n",
       "      <td>1.0</td>\n",
       "      <td>296.0</td>\n",
       "      <td>15.3</td>\n",
       "    </tr>\n",
       "    <tr>\n",
       "      <th>1</th>\n",
       "      <td>396.90000</td>\n",
       "      <td>4.98</td>\n",
       "      <td>24.00</td>\n",
       "      <td>NaN</td>\n",
       "      <td>NaN</td>\n",
       "      <td>NaN</td>\n",
       "      <td>NaN</td>\n",
       "      <td>NaN</td>\n",
       "      <td>NaN</td>\n",
       "      <td>NaN</td>\n",
       "      <td>NaN</td>\n",
       "    </tr>\n",
       "    <tr>\n",
       "      <th>2</th>\n",
       "      <td>0.02731</td>\n",
       "      <td>0.00</td>\n",
       "      <td>7.07</td>\n",
       "      <td>0.0</td>\n",
       "      <td>0.469</td>\n",
       "      <td>6.421</td>\n",
       "      <td>78.9</td>\n",
       "      <td>4.9671</td>\n",
       "      <td>2.0</td>\n",
       "      <td>242.0</td>\n",
       "      <td>17.8</td>\n",
       "    </tr>\n",
       "    <tr>\n",
       "      <th>3</th>\n",
       "      <td>396.90000</td>\n",
       "      <td>9.14</td>\n",
       "      <td>21.60</td>\n",
       "      <td>NaN</td>\n",
       "      <td>NaN</td>\n",
       "      <td>NaN</td>\n",
       "      <td>NaN</td>\n",
       "      <td>NaN</td>\n",
       "      <td>NaN</td>\n",
       "      <td>NaN</td>\n",
       "      <td>NaN</td>\n",
       "    </tr>\n",
       "    <tr>\n",
       "      <th>4</th>\n",
       "      <td>0.02729</td>\n",
       "      <td>0.00</td>\n",
       "      <td>7.07</td>\n",
       "      <td>0.0</td>\n",
       "      <td>0.469</td>\n",
       "      <td>7.185</td>\n",
       "      <td>61.1</td>\n",
       "      <td>4.9671</td>\n",
       "      <td>2.0</td>\n",
       "      <td>242.0</td>\n",
       "      <td>17.8</td>\n",
       "    </tr>\n",
       "  </tbody>\n",
       "</table>\n",
       "</div>"
      ],
      "text/plain": [
       "          0      1      2    3      4      5     6       7    8      9     10\n",
       "0    0.00632  18.00   2.31  0.0  0.538  6.575  65.2  4.0900  1.0  296.0  15.3\n",
       "1  396.90000   4.98  24.00  NaN    NaN    NaN   NaN     NaN  NaN    NaN   NaN\n",
       "2    0.02731   0.00   7.07  0.0  0.469  6.421  78.9  4.9671  2.0  242.0  17.8\n",
       "3  396.90000   9.14  21.60  NaN    NaN    NaN   NaN     NaN  NaN    NaN   NaN\n",
       "4    0.02729   0.00   7.07  0.0  0.469  7.185  61.1  4.9671  2.0  242.0  17.8"
      ]
     },
     "execution_count": 47,
     "metadata": {},
     "output_type": "execute_result"
    }
   ],
   "source": [
    "data.head()"
   ]
  },
  {
   "cell_type": "code",
   "execution_count": 48,
   "id": "590f7327-3f69-4f8f-94bc-75ef9dd1a4cc",
   "metadata": {
    "tags": []
   },
   "outputs": [
    {
     "data": {
      "text/plain": [
       "(1012, 11)"
      ]
     },
     "execution_count": 48,
     "metadata": {},
     "output_type": "execute_result"
    }
   ],
   "source": [
    "data.shape"
   ]
  },
  {
   "cell_type": "code",
   "execution_count": 49,
   "id": "7ab1cd20-dbea-49bb-a63a-aec4b49576cc",
   "metadata": {
    "tags": []
   },
   "outputs": [],
   "source": [
    "data = data.dropna()"
   ]
  },
  {
   "cell_type": "code",
   "execution_count": 50,
   "id": "e273f5d6-76a8-4908-8ad4-e0ae184aef1a",
   "metadata": {
    "tags": []
   },
   "outputs": [
    {
     "data": {
      "text/html": [
       "<div>\n",
       "<style scoped>\n",
       "    .dataframe tbody tr th:only-of-type {\n",
       "        vertical-align: middle;\n",
       "    }\n",
       "\n",
       "    .dataframe tbody tr th {\n",
       "        vertical-align: top;\n",
       "    }\n",
       "\n",
       "    .dataframe thead th {\n",
       "        text-align: right;\n",
       "    }\n",
       "</style>\n",
       "<table border=\"1\" class=\"dataframe\">\n",
       "  <thead>\n",
       "    <tr style=\"text-align: right;\">\n",
       "      <th></th>\n",
       "      <th>0</th>\n",
       "      <th>1</th>\n",
       "      <th>2</th>\n",
       "      <th>3</th>\n",
       "      <th>4</th>\n",
       "      <th>5</th>\n",
       "      <th>6</th>\n",
       "      <th>7</th>\n",
       "      <th>8</th>\n",
       "      <th>9</th>\n",
       "      <th>10</th>\n",
       "    </tr>\n",
       "  </thead>\n",
       "  <tbody>\n",
       "    <tr>\n",
       "      <th>count</th>\n",
       "      <td>506.000000</td>\n",
       "      <td>506.000000</td>\n",
       "      <td>506.000000</td>\n",
       "      <td>506.000000</td>\n",
       "      <td>506.000000</td>\n",
       "      <td>506.000000</td>\n",
       "      <td>506.000000</td>\n",
       "      <td>506.000000</td>\n",
       "      <td>506.000000</td>\n",
       "      <td>506.000000</td>\n",
       "      <td>506.000000</td>\n",
       "    </tr>\n",
       "    <tr>\n",
       "      <th>mean</th>\n",
       "      <td>3.613524</td>\n",
       "      <td>11.363636</td>\n",
       "      <td>11.136779</td>\n",
       "      <td>0.069170</td>\n",
       "      <td>0.554695</td>\n",
       "      <td>6.284634</td>\n",
       "      <td>68.574901</td>\n",
       "      <td>3.795043</td>\n",
       "      <td>9.549407</td>\n",
       "      <td>408.237154</td>\n",
       "      <td>18.455534</td>\n",
       "    </tr>\n",
       "    <tr>\n",
       "      <th>std</th>\n",
       "      <td>8.601545</td>\n",
       "      <td>23.322453</td>\n",
       "      <td>6.860353</td>\n",
       "      <td>0.253994</td>\n",
       "      <td>0.115878</td>\n",
       "      <td>0.702617</td>\n",
       "      <td>28.148861</td>\n",
       "      <td>2.105710</td>\n",
       "      <td>8.707259</td>\n",
       "      <td>168.537116</td>\n",
       "      <td>2.164946</td>\n",
       "    </tr>\n",
       "    <tr>\n",
       "      <th>min</th>\n",
       "      <td>0.006320</td>\n",
       "      <td>0.000000</td>\n",
       "      <td>0.460000</td>\n",
       "      <td>0.000000</td>\n",
       "      <td>0.385000</td>\n",
       "      <td>3.561000</td>\n",
       "      <td>2.900000</td>\n",
       "      <td>1.129600</td>\n",
       "      <td>1.000000</td>\n",
       "      <td>187.000000</td>\n",
       "      <td>12.600000</td>\n",
       "    </tr>\n",
       "    <tr>\n",
       "      <th>25%</th>\n",
       "      <td>0.082045</td>\n",
       "      <td>0.000000</td>\n",
       "      <td>5.190000</td>\n",
       "      <td>0.000000</td>\n",
       "      <td>0.449000</td>\n",
       "      <td>5.885500</td>\n",
       "      <td>45.025000</td>\n",
       "      <td>2.100175</td>\n",
       "      <td>4.000000</td>\n",
       "      <td>279.000000</td>\n",
       "      <td>17.400000</td>\n",
       "    </tr>\n",
       "    <tr>\n",
       "      <th>50%</th>\n",
       "      <td>0.256510</td>\n",
       "      <td>0.000000</td>\n",
       "      <td>9.690000</td>\n",
       "      <td>0.000000</td>\n",
       "      <td>0.538000</td>\n",
       "      <td>6.208500</td>\n",
       "      <td>77.500000</td>\n",
       "      <td>3.207450</td>\n",
       "      <td>5.000000</td>\n",
       "      <td>330.000000</td>\n",
       "      <td>19.050000</td>\n",
       "    </tr>\n",
       "    <tr>\n",
       "      <th>75%</th>\n",
       "      <td>3.677083</td>\n",
       "      <td>12.500000</td>\n",
       "      <td>18.100000</td>\n",
       "      <td>0.000000</td>\n",
       "      <td>0.624000</td>\n",
       "      <td>6.623500</td>\n",
       "      <td>94.075000</td>\n",
       "      <td>5.188425</td>\n",
       "      <td>24.000000</td>\n",
       "      <td>666.000000</td>\n",
       "      <td>20.200000</td>\n",
       "    </tr>\n",
       "    <tr>\n",
       "      <th>max</th>\n",
       "      <td>88.976200</td>\n",
       "      <td>100.000000</td>\n",
       "      <td>27.740000</td>\n",
       "      <td>1.000000</td>\n",
       "      <td>0.871000</td>\n",
       "      <td>8.780000</td>\n",
       "      <td>100.000000</td>\n",
       "      <td>12.126500</td>\n",
       "      <td>24.000000</td>\n",
       "      <td>711.000000</td>\n",
       "      <td>22.000000</td>\n",
       "    </tr>\n",
       "  </tbody>\n",
       "</table>\n",
       "</div>"
      ],
      "text/plain": [
       "               0           1           2           3           4           5   \\\n",
       "count  506.000000  506.000000  506.000000  506.000000  506.000000  506.000000   \n",
       "mean     3.613524   11.363636   11.136779    0.069170    0.554695    6.284634   \n",
       "std      8.601545   23.322453    6.860353    0.253994    0.115878    0.702617   \n",
       "min      0.006320    0.000000    0.460000    0.000000    0.385000    3.561000   \n",
       "25%      0.082045    0.000000    5.190000    0.000000    0.449000    5.885500   \n",
       "50%      0.256510    0.000000    9.690000    0.000000    0.538000    6.208500   \n",
       "75%      3.677083   12.500000   18.100000    0.000000    0.624000    6.623500   \n",
       "max     88.976200  100.000000   27.740000    1.000000    0.871000    8.780000   \n",
       "\n",
       "               6           7           8           9           10  \n",
       "count  506.000000  506.000000  506.000000  506.000000  506.000000  \n",
       "mean    68.574901    3.795043    9.549407  408.237154   18.455534  \n",
       "std     28.148861    2.105710    8.707259  168.537116    2.164946  \n",
       "min      2.900000    1.129600    1.000000  187.000000   12.600000  \n",
       "25%     45.025000    2.100175    4.000000  279.000000   17.400000  \n",
       "50%     77.500000    3.207450    5.000000  330.000000   19.050000  \n",
       "75%     94.075000    5.188425   24.000000  666.000000   20.200000  \n",
       "max    100.000000   12.126500   24.000000  711.000000   22.000000  "
      ]
     },
     "execution_count": 50,
     "metadata": {},
     "output_type": "execute_result"
    }
   ],
   "source": [
    "data.describe()"
   ]
  },
  {
   "cell_type": "code",
   "execution_count": 51,
   "id": "8054939f-91e4-4f60-84d3-42fbce193d9f",
   "metadata": {
    "tags": []
   },
   "outputs": [
    {
     "name": "stdout",
     "output_type": "stream",
     "text": [
      "               0           1           2           3           4           5   \\\n",
      "count  506.000000  506.000000  506.000000  506.000000  506.000000  506.000000   \n",
      "mean     0.040544    0.113636    0.391378    0.069170    0.349167    0.521869   \n",
      "std      0.096679    0.233225    0.251479    0.253994    0.238431    0.134627   \n",
      "min      0.000000    0.000000    0.000000    0.000000    0.000000    0.000000   \n",
      "25%      0.000851    0.000000    0.173387    0.000000    0.131687    0.445392   \n",
      "50%      0.002812    0.000000    0.338343    0.000000    0.314815    0.507281   \n",
      "75%      0.041258    0.125000    0.646628    0.000000    0.491770    0.586798   \n",
      "max      1.000000    1.000000    1.000000    1.000000    1.000000    1.000000   \n",
      "\n",
      "               6           7           8           9           10  \n",
      "count  506.000000  506.000000  506.000000  506.000000  506.000000  \n",
      "mean     0.676364    0.242381    0.371713    0.422208    0.622929  \n",
      "std      0.289896    0.191482    0.378576    0.321636    0.230313  \n",
      "min      0.000000    0.000000    0.000000    0.000000    0.000000  \n",
      "25%      0.433831    0.088259    0.130435    0.175573    0.510638  \n",
      "50%      0.768280    0.188949    0.173913    0.272901    0.686170  \n",
      "75%      0.938980    0.369088    1.000000    0.914122    0.808511  \n",
      "max      1.000000    1.000000    1.000000    1.000000    1.000000  \n"
     ]
    }
   ],
   "source": [
    "from sklearn.preprocessing import MinMaxScaler\n",
    "scaler = MinMaxScaler()\n",
    "numeric_columns = data.select_dtypes(include=['float64', 'int64']).columns\n",
    "data[numeric_columns] = scaler.fit_transform(data[numeric_columns])\n",
    "print(data.describe())"
   ]
  },
  {
   "cell_type": "markdown",
   "id": "93ddd9ed-45c5-4d90-9ed8-24ec07d4deb0",
   "metadata": {
    "tags": []
   },
   "source": [
    "# Store the Source Data in GCS Storage Bucket"
   ]
  },
  {
   "cell_type": "code",
   "execution_count": 52,
   "id": "c83a623a-2529-4eff-b699-a3f3ae0d895d",
   "metadata": {
    "tags": []
   },
   "outputs": [
    {
     "name": "stdout",
     "output_type": "stream",
     "text": [
      "File saved locally as ./tmp/boston_housing.csv\n"
     ]
    }
   ],
   "source": [
    "import os\n",
    "\n",
    "# Define the local directory and file path\n",
    "local_dir = \"./tmp\"\n",
    "csv_file = os.path.join(local_dir, \"boston_housing.csv\")\n",
    "\n",
    "# Create the directory if it doesn't exist\n",
    "if not os.path.exists(local_dir):\n",
    "    os.makedirs(local_dir)\n",
    "\n",
    "# Save the DataFrame as a CSV\n",
    "data.to_csv(csv_file, index=False)\n",
    "print(f\"File saved locally as {csv_file}\")"
   ]
  },
  {
   "cell_type": "code",
   "execution_count": 53,
   "id": "e07b804f-cb67-4466-9e29-c5bfe1d4e473",
   "metadata": {
    "tags": []
   },
   "outputs": [],
   "source": [
    "file = f\"{SERIES}/{EXPERIMENT}/data/{BQ_TABLE}.csv\""
   ]
  },
  {
   "cell_type": "code",
   "execution_count": 61,
   "id": "e83dcdd5-0ae3-4bbd-b5d3-43a0f1c9e2ba",
   "metadata": {
    "tags": []
   },
   "outputs": [
    {
     "name": "stdout",
     "output_type": "stream",
     "text": [
      "The file has already been created at: gs://tymestack-439300/01/01/data/housing.csv\n"
     ]
    }
   ],
   "source": [
    "# Initialize the GCS client\n",
    "bucketDef = gcs.bucket(BUCKET)\n",
    "\n",
    "# Check if the file already exists in the GCS bucket\n",
    "if storage.Blob(bucket=bucketDef, name=file).exists(gcs):\n",
    "    print(f'The file has already been created at: gs://{bucketDef.name}/{file}')\n",
    "else:\n",
    "    # Upload the local CSV file to the GCS bucket\n",
    "    blob = bucketDef.blob(file)\n",
    "    blob.upload_from_filename(csv_file)  # Uploads the local CSV file\n",
    "    \n",
    "    print(f'Uploaded the CSV file to: gs://{bucketDef.name}/{file}')"
   ]
  },
  {
   "cell_type": "code",
   "execution_count": 62,
   "id": "c1bfea6d-7a23-450a-b264-18931d022b5f",
   "metadata": {
    "tags": []
   },
   "outputs": [
    {
     "data": {
      "text/plain": [
       "[<Blob: tymestack-439300, 01/01/data/fraud.csv, 1729473291541936>,\n",
       " <Blob: tymestack-439300, 01/01/data/housing.csv, 1729491139511909>,\n",
       " <Blob: tymestack-439300, 01/01/training/01_trainer/train.py, 1729498657541273>,\n",
       " <Blob: tymestack-439300, 01/01/training/Dockerfile, 1729498659629682>,\n",
       " <Blob: tymestack-439300, 01/01/training/requirements.txt, 1729498659421529>]"
      ]
     },
     "execution_count": 62,
     "metadata": {},
     "output_type": "execute_result"
    }
   ],
   "source": [
    "list(bucketDef.list_blobs(prefix = f'{SERIES}/{EXPERIMENT}'))"
   ]
  },
  {
   "cell_type": "markdown",
   "id": "537ab234-1b52-4d54-ab55-d3bcefd3c7eb",
   "metadata": {},
   "source": [
    "# Create BigQuery Dataset"
   ]
  },
  {
   "cell_type": "code",
   "execution_count": 56,
   "id": "b1d5bf56-8a6c-4bf5-8571-82e0ff46687a",
   "metadata": {
    "tags": []
   },
   "outputs": [
    {
     "name": "stdout",
     "output_type": "stream",
     "text": [
      "fraud\n"
     ]
    }
   ],
   "source": [
    "datasets = list(bq.list_datasets())\n",
    "for d in datasets:\n",
    "    print(d.dataset_id)"
   ]
  },
  {
   "cell_type": "code",
   "execution_count": 57,
   "id": "2cd05f22-f7db-403d-aee8-3deecbaa1e99",
   "metadata": {
    "tags": []
   },
   "outputs": [],
   "source": [
    "ds = bigquery.Dataset(f\"{BQ_PROJECT}.{BQ_DATASET}\")\n",
    "ds.location = REGION\n",
    "ds.labels = {'experiment': f'{EXPERIMENT}'}\n",
    "ds = bq.create_dataset(dataset = ds, exists_ok = True)"
   ]
  },
  {
   "cell_type": "code",
   "execution_count": 58,
   "id": "7ad746d5-2926-4e76-bcde-6f93fb48b83a",
   "metadata": {
    "tags": []
   },
   "outputs": [
    {
     "name": "stdout",
     "output_type": "stream",
     "text": [
      "fraud\n",
      "housing\n"
     ]
    }
   ],
   "source": [
    "datasets = list(bq.list_datasets())\n",
    "for d in datasets:\n",
    "    print(d.dataset_id)"
   ]
  },
  {
   "cell_type": "markdown",
   "id": "c0082993-aa7a-44c6-8f04-e56d585ca97c",
   "metadata": {},
   "source": [
    "# Create BigQuery Table"
   ]
  },
  {
   "cell_type": "code",
   "execution_count": 59,
   "id": "2caab209-c014-4bf9-98e5-2692ae597e95",
   "metadata": {
    "tags": []
   },
   "outputs": [
    {
     "name": "stdout",
     "output_type": "stream",
     "text": [
      "Creating Table ...\n",
      "Finished creating table: tymestack-439300.housing.housing\n"
     ]
    }
   ],
   "source": [
    "from google.cloud.exceptions import NotFound\n",
    "try:\n",
    "    table = bq.get_table(f'{BQ_PROJECT}.{BQ_DATASET}.{BQ_TABLE}')\n",
    "    if table:\n",
    "        print(f'The table already exists: {BQ_PROJECT}.{BQ_DATASET}.{BQ_TABLE}')\n",
    "except NotFound as error:\n",
    "    print(f'Creating Table ...')\n",
    "    destination = bigquery.TableReference.from_string(f\"{BQ_PROJECT}.{BQ_DATASET}.{BQ_TABLE}\")\n",
    "    job_config = bigquery.LoadJobConfig(\n",
    "        write_disposition = 'WRITE_TRUNCATE',\n",
    "        source_format = bigquery.SourceFormat.CSV,\n",
    "        autodetect = True,\n",
    "        labels = {'experiment': f'{EXPERIMENT}'}\n",
    "    )\n",
    "    job = bq.load_table_from_uri(f\"gs://{bucketDef.name}/{file}\", destination, job_config = job_config)\n",
    "    job.result()\n",
    "    print(f'Finished creating table: {BQ_PROJECT}.{BQ_DATASET}.{BQ_TABLE}')"
   ]
  },
  {
   "cell_type": "code",
   "execution_count": 60,
   "id": "2f73af94-55d8-4efd-9dac-3af142ad084e",
   "metadata": {
    "tags": []
   },
   "outputs": [
    {
     "name": "stderr",
     "output_type": "stream",
     "text": [
      "/opt/conda/lib/python3.10/site-packages/google/cloud/bigquery/table.py:2309: UserWarning: Unable to represent RANGE schema as struct using pandas ArrowDtype. Using `object` instead. To use ArrowDtype, use pandas >= 1.5 and pyarrow >= 10.0.1.\n",
      "  warnings.warn(_RANGE_PYARROW_WARNING)\n",
      "/opt/conda/lib/python3.10/site-packages/google/cloud/bigquery/table.py:2323: UserWarning: Unable to represent RANGE schema as struct using pandas ArrowDtype. Using `object` instead. To use ArrowDtype, use pandas >= 1.5 and pyarrow >= 10.0.1.\n",
      "  warnings.warn(_RANGE_PYARROW_WARNING)\n",
      "/opt/conda/lib/python3.10/site-packages/google/cloud/bigquery/table.py:2337: UserWarning: Unable to represent RANGE schema as struct using pandas ArrowDtype. Using `object` instead. To use ArrowDtype, use pandas >= 1.5 and pyarrow >= 10.0.1.\n",
      "  warnings.warn(_RANGE_PYARROW_WARNING)\n"
     ]
    },
    {
     "data": {
      "text/html": [
       "<div>\n",
       "<style scoped>\n",
       "    .dataframe tbody tr th:only-of-type {\n",
       "        vertical-align: middle;\n",
       "    }\n",
       "\n",
       "    .dataframe tbody tr th {\n",
       "        vertical-align: top;\n",
       "    }\n",
       "\n",
       "    .dataframe thead th {\n",
       "        text-align: right;\n",
       "    }\n",
       "</style>\n",
       "<table border=\"1\" class=\"dataframe\">\n",
       "  <thead>\n",
       "    <tr style=\"text-align: right;\">\n",
       "      <th></th>\n",
       "      <th>double_field_0</th>\n",
       "      <th>double_field_1</th>\n",
       "      <th>double_field_2</th>\n",
       "      <th>double_field_3</th>\n",
       "      <th>double_field_4</th>\n",
       "      <th>double_field_5</th>\n",
       "      <th>double_field_6</th>\n",
       "      <th>double_field_7</th>\n",
       "      <th>double_field_8</th>\n",
       "      <th>double_field_9</th>\n",
       "      <th>double_field_10</th>\n",
       "    </tr>\n",
       "  </thead>\n",
       "  <tbody>\n",
       "    <tr>\n",
       "      <th>0</th>\n",
       "      <td>0.000210</td>\n",
       "      <td>0.00</td>\n",
       "      <td>0.052419</td>\n",
       "      <td>0.0</td>\n",
       "      <td>0.273663</td>\n",
       "      <td>0.570799</td>\n",
       "      <td>0.584964</td>\n",
       "      <td>0.467159</td>\n",
       "      <td>0.000000</td>\n",
       "      <td>0.448473</td>\n",
       "      <td>0.351064</td>\n",
       "    </tr>\n",
       "    <tr>\n",
       "      <th>1</th>\n",
       "      <td>0.000633</td>\n",
       "      <td>0.00</td>\n",
       "      <td>0.420455</td>\n",
       "      <td>0.0</td>\n",
       "      <td>0.386831</td>\n",
       "      <td>0.580954</td>\n",
       "      <td>0.681771</td>\n",
       "      <td>0.122671</td>\n",
       "      <td>0.000000</td>\n",
       "      <td>0.164122</td>\n",
       "      <td>0.893617</td>\n",
       "    </tr>\n",
       "    <tr>\n",
       "      <th>2</th>\n",
       "      <td>0.000438</td>\n",
       "      <td>0.00</td>\n",
       "      <td>0.420455</td>\n",
       "      <td>0.0</td>\n",
       "      <td>0.386831</td>\n",
       "      <td>0.490324</td>\n",
       "      <td>0.760041</td>\n",
       "      <td>0.105293</td>\n",
       "      <td>0.000000</td>\n",
       "      <td>0.164122</td>\n",
       "      <td>0.893617</td>\n",
       "    </tr>\n",
       "    <tr>\n",
       "      <th>3</th>\n",
       "      <td>0.000612</td>\n",
       "      <td>0.00</td>\n",
       "      <td>0.420455</td>\n",
       "      <td>0.0</td>\n",
       "      <td>0.386831</td>\n",
       "      <td>0.654340</td>\n",
       "      <td>0.907312</td>\n",
       "      <td>0.094381</td>\n",
       "      <td>0.000000</td>\n",
       "      <td>0.164122</td>\n",
       "      <td>0.893617</td>\n",
       "    </tr>\n",
       "    <tr>\n",
       "      <th>4</th>\n",
       "      <td>0.001161</td>\n",
       "      <td>0.00</td>\n",
       "      <td>0.420455</td>\n",
       "      <td>0.0</td>\n",
       "      <td>0.386831</td>\n",
       "      <td>0.619467</td>\n",
       "      <td>0.889804</td>\n",
       "      <td>0.114514</td>\n",
       "      <td>0.000000</td>\n",
       "      <td>0.164122</td>\n",
       "      <td>0.893617</td>\n",
       "    </tr>\n",
       "    <tr>\n",
       "      <th>...</th>\n",
       "      <td>...</td>\n",
       "      <td>...</td>\n",
       "      <td>...</td>\n",
       "      <td>...</td>\n",
       "      <td>...</td>\n",
       "      <td>...</td>\n",
       "      <td>...</td>\n",
       "      <td>...</td>\n",
       "      <td>...</td>\n",
       "      <td>...</td>\n",
       "      <td>...</td>\n",
       "    </tr>\n",
       "    <tr>\n",
       "      <th>502</th>\n",
       "      <td>0.000531</td>\n",
       "      <td>0.21</td>\n",
       "      <td>0.189883</td>\n",
       "      <td>0.0</td>\n",
       "      <td>0.111111</td>\n",
       "      <td>0.565242</td>\n",
       "      <td>0.187436</td>\n",
       "      <td>0.516973</td>\n",
       "      <td>0.130435</td>\n",
       "      <td>0.106870</td>\n",
       "      <td>0.446809</td>\n",
       "    </tr>\n",
       "    <tr>\n",
       "      <th>503</th>\n",
       "      <td>0.000489</td>\n",
       "      <td>0.21</td>\n",
       "      <td>0.189883</td>\n",
       "      <td>0.0</td>\n",
       "      <td>0.111111</td>\n",
       "      <td>0.466948</td>\n",
       "      <td>0.190525</td>\n",
       "      <td>0.516973</td>\n",
       "      <td>0.130435</td>\n",
       "      <td>0.106870</td>\n",
       "      <td>0.446809</td>\n",
       "    </tr>\n",
       "    <tr>\n",
       "      <th>504</th>\n",
       "      <td>0.000401</td>\n",
       "      <td>0.28</td>\n",
       "      <td>0.534457</td>\n",
       "      <td>0.0</td>\n",
       "      <td>0.162551</td>\n",
       "      <td>0.552021</td>\n",
       "      <td>0.522142</td>\n",
       "      <td>0.230638</td>\n",
       "      <td>0.130435</td>\n",
       "      <td>0.158397</td>\n",
       "      <td>0.595745</td>\n",
       "    </tr>\n",
       "    <tr>\n",
       "      <th>505</th>\n",
       "      <td>0.000252</td>\n",
       "      <td>0.28</td>\n",
       "      <td>0.534457</td>\n",
       "      <td>0.0</td>\n",
       "      <td>0.162551</td>\n",
       "      <td>0.507760</td>\n",
       "      <td>0.267765</td>\n",
       "      <td>0.230638</td>\n",
       "      <td>0.130435</td>\n",
       "      <td>0.158397</td>\n",
       "      <td>0.595745</td>\n",
       "    </tr>\n",
       "    <tr>\n",
       "      <th>506</th>\n",
       "      <td>0.000412</td>\n",
       "      <td>0.28</td>\n",
       "      <td>0.534457</td>\n",
       "      <td>0.0</td>\n",
       "      <td>0.162551</td>\n",
       "      <td>0.515041</td>\n",
       "      <td>0.766220</td>\n",
       "      <td>0.226009</td>\n",
       "      <td>0.130435</td>\n",
       "      <td>0.158397</td>\n",
       "      <td>0.595745</td>\n",
       "    </tr>\n",
       "  </tbody>\n",
       "</table>\n",
       "<p>507 rows × 11 columns</p>\n",
       "</div>"
      ],
      "text/plain": [
       "     double_field_0  double_field_1  double_field_2  double_field_3  \\\n",
       "0          0.000210            0.00        0.052419             0.0   \n",
       "1          0.000633            0.00        0.420455             0.0   \n",
       "2          0.000438            0.00        0.420455             0.0   \n",
       "3          0.000612            0.00        0.420455             0.0   \n",
       "4          0.001161            0.00        0.420455             0.0   \n",
       "..              ...             ...             ...             ...   \n",
       "502        0.000531            0.21        0.189883             0.0   \n",
       "503        0.000489            0.21        0.189883             0.0   \n",
       "504        0.000401            0.28        0.534457             0.0   \n",
       "505        0.000252            0.28        0.534457             0.0   \n",
       "506        0.000412            0.28        0.534457             0.0   \n",
       "\n",
       "     double_field_4  double_field_5  double_field_6  double_field_7  \\\n",
       "0          0.273663        0.570799        0.584964        0.467159   \n",
       "1          0.386831        0.580954        0.681771        0.122671   \n",
       "2          0.386831        0.490324        0.760041        0.105293   \n",
       "3          0.386831        0.654340        0.907312        0.094381   \n",
       "4          0.386831        0.619467        0.889804        0.114514   \n",
       "..              ...             ...             ...             ...   \n",
       "502        0.111111        0.565242        0.187436        0.516973   \n",
       "503        0.111111        0.466948        0.190525        0.516973   \n",
       "504        0.162551        0.552021        0.522142        0.230638   \n",
       "505        0.162551        0.507760        0.267765        0.230638   \n",
       "506        0.162551        0.515041        0.766220        0.226009   \n",
       "\n",
       "     double_field_8  double_field_9  double_field_10  \n",
       "0          0.000000        0.448473         0.351064  \n",
       "1          0.000000        0.164122         0.893617  \n",
       "2          0.000000        0.164122         0.893617  \n",
       "3          0.000000        0.164122         0.893617  \n",
       "4          0.000000        0.164122         0.893617  \n",
       "..              ...             ...              ...  \n",
       "502        0.130435        0.106870         0.446809  \n",
       "503        0.130435        0.106870         0.446809  \n",
       "504        0.130435        0.158397         0.595745  \n",
       "505        0.130435        0.158397         0.595745  \n",
       "506        0.130435        0.158397         0.595745  \n",
       "\n",
       "[507 rows x 11 columns]"
      ]
     },
     "execution_count": 60,
     "metadata": {},
     "output_type": "execute_result"
    }
   ],
   "source": [
    "query = f\"\"\"\n",
    "SELECT *\n",
    "FROM `{BQ_PROJECT}.{BQ_DATASET}.{BQ_TABLE}` TABLESAMPLE SYSTEM (1 PERCENT)\n",
    "#LIMIT 5\n",
    "\"\"\"\n",
    "bq.query(query = query).to_dataframe()"
   ]
  },
  {
   "cell_type": "code",
   "execution_count": null,
   "id": "0c393d3f-c758-425a-892f-ab263fd225cc",
   "metadata": {},
   "outputs": [],
   "source": []
  }
 ],
 "metadata": {
  "environment": {
   "kernel": "python3",
   "name": "tf2-cpu.2-11.m125",
   "type": "gcloud",
   "uri": "us-docker.pkg.dev/deeplearning-platform-release/gcr.io/tf2-cpu.2-11:m125"
  },
  "kernelspec": {
   "display_name": "Python 3 (Local)",
   "language": "python",
   "name": "python3"
  },
  "language_info": {
   "codemirror_mode": {
    "name": "ipython",
    "version": 3
   },
   "file_extension": ".py",
   "mimetype": "text/x-python",
   "name": "python",
   "nbconvert_exporter": "python",
   "pygments_lexer": "ipython3",
   "version": "3.10.15"
  }
 },
 "nbformat": 4,
 "nbformat_minor": 5
}
